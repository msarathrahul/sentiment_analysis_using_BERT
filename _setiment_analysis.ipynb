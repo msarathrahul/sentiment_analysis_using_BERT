{
 "cells": [
  {
   "cell_type": "code",
   "execution_count": 44,
   "id": "92108c43",
   "metadata": {},
   "outputs": [],
   "source": [
    "# Import necessary libraries\n",
    "from transformers import AutoTokenizer, AutoModelForSequenceClassification\n",
    "import torch\n",
    "import requests\n",
    "from bs4 import BeautifulSoup\n",
    "import re\n",
    "import pandas as pd\n",
    "import numpy as np\n",
    "from tqdm.auto import tqdm"
   ]
  },
  {
   "cell_type": "code",
   "execution_count": 45,
   "id": "0734064c",
   "metadata": {},
   "outputs": [],
   "source": [
    "# Initialize a tokenizer using a pre-trained BERT model for multilingual sentiment analysis\n",
    "tokenizer = AutoTokenizer.from_pretrained('nlptown/bert-base-multilingual-uncased-sentiment')"
   ]
  },
  {
   "cell_type": "code",
   "execution_count": 46,
   "id": "42e90d47",
   "metadata": {},
   "outputs": [],
   "source": [
    "# Initialize a model for sequence classification using a pre-trained BERT model for multilingual sentiment analysis\n",
    "model = AutoModelForSequenceClassification.from_pretrained('nlptown/bert-base-multilingual-uncased-sentiment')"
   ]
  },
  {
   "cell_type": "code",
   "execution_count": 47,
   "id": "c7e3b65e",
   "metadata": {},
   "outputs": [],
   "source": [
    "# Define a text statement for sentiment analysis\n",
    "statement = 'It is ok product, nothing special'"
   ]
  },
  {
   "cell_type": "code",
   "execution_count": 48,
   "id": "52abe127",
   "metadata": {},
   "outputs": [],
   "source": [
    "# Encode the input text statement into tokens using the tokenizer\n",
    "# The return_tensors parameter specifies that the tokens should be returned as PyTorch tensors\n",
    "tokens = tokenizer.encode(statement, return_tensors='pt')"
   ]
  },
  {
   "cell_type": "code",
   "execution_count": 49,
   "id": "85dcb679",
   "metadata": {},
   "outputs": [
    {
     "data": {
      "text/plain": [
       "tensor([[  101, 10197, 10127, 13563, 20058,   117, 20587, 11999,   102]])"
      ]
     },
     "execution_count": 49,
     "metadata": {},
     "output_type": "execute_result"
    }
   ],
   "source": [
    "tokens"
   ]
  },
  {
   "cell_type": "code",
   "execution_count": 50,
   "id": "81d605eb",
   "metadata": {},
   "outputs": [],
   "source": [
    "# Decode the encoded tokens back into text using the tokenizer\n",
    "decoded_text = tokenizer.decode(tokens[0])"
   ]
  },
  {
   "cell_type": "code",
   "execution_count": 51,
   "id": "450aa02c",
   "metadata": {},
   "outputs": [],
   "source": [
    "# Use the model to perform sentiment analysis on the encoded tokens\n",
    "# The model's output tensor is processed to obtain the predicted sentiment label\n",
    "# The sentiment label is then converted to a numeric value and 1 is added to convert the position to score\n",
    "sentiment = int(model(tokens)[0].detach().argmax(dim=1).item()) + 1"
   ]
  },
  {
   "cell_type": "code",
   "execution_count": 52,
   "id": "35ba9235",
   "metadata": {},
   "outputs": [
    {
     "data": {
      "text/plain": [
       "3"
      ]
     },
     "execution_count": 52,
     "metadata": {},
     "output_type": "execute_result"
    }
   ],
   "source": [
    "sentiment"
   ]
  },
  {
   "cell_type": "code",
   "execution_count": 53,
   "id": "08714e76",
   "metadata": {},
   "outputs": [],
   "source": [
    "# Read the CSV file 'Reviews.csv' and store it as a DataFrame\n",
    "df = pd.read_csv('Reviews.csv')"
   ]
  },
  {
   "cell_type": "code",
   "execution_count": 54,
   "id": "6b8a2e3e",
   "metadata": {},
   "outputs": [],
   "source": [
    "# Sample 56845 random rows(10% of the data) from the DataFrame and reset the index\n",
    "# The resulting DataFrame is copied to ensure independence from the original DataFrame\n",
    "df = df.sample(56845).reset_index().copy()"
   ]
  },
  {
   "cell_type": "code",
   "execution_count": 55,
   "id": "871a2006",
   "metadata": {},
   "outputs": [
    {
     "name": "stdout",
     "output_type": "stream",
     "text": [
      "(56845, 11)\n"
     ]
    }
   ],
   "source": [
    "# Display the dimensions of the DataFrame\n",
    "print(df.shape)"
   ]
  },
  {
   "cell_type": "code",
   "execution_count": 56,
   "id": "1b5c7f46",
   "metadata": {},
   "outputs": [],
   "source": [
    "# Extract the 'Text' column values from the DataFrame as an array\n",
    "reviews = df.Text.values"
   ]
  },
  {
   "cell_type": "code",
   "execution_count": 57,
   "id": "22f6baf5",
   "metadata": {},
   "outputs": [
    {
     "name": "stdout",
     "output_type": "stream",
     "text": [
      "(56845,)\n"
     ]
    }
   ],
   "source": [
    "# Display the dimensions of the 'reviews' array\n",
    "print(reviews.shape)"
   ]
  },
  {
   "cell_type": "code",
   "execution_count": 58,
   "id": "081e703f",
   "metadata": {},
   "outputs": [],
   "source": [
    "def sentiment_analysis(review):\n",
    "    # Encode the input review into tokens using the tokenizer\n",
    "    tokens = tokenizer.encode(review, return_tensors='pt')\n",
    "    \n",
    "    # Use the model to perform sentiment analysis on the encoded tokens\n",
    "    # The model's output tensor is processed to obtain the predicted sentiment label\n",
    "    # The sentiment label is then converted to a numeric value by adding 1\n",
    "    sentiment = int(model(tokens)[0].detach().argmax(dim=1).item()) + 1\n",
    "    \n",
    "    # Return the calculated sentiment value\n",
    "    return sentiment"
   ]
  },
  {
   "cell_type": "code",
   "execution_count": 21,
   "id": "c24d7f91",
   "metadata": {
    "scrolled": false
   },
   "outputs": [
    {
     "data": {
      "application/vnd.jupyter.widget-view+json": {
       "model_id": "1f20d9d5d83d4cf3b75ad35358694053",
       "version_major": 2,
       "version_minor": 0
      },
      "text/plain": [
       "  0%|          | 0/56845 [00:00<?, ?it/s]"
      ]
     },
     "metadata": {},
     "output_type": "display_data"
    }
   ],
   "source": [
    "# Create an empty list to store predicted sentiments\n",
    "prediction_lst = []\n",
    "\n",
    "# Iterate through each review in the 'reviews' array\n",
    "for review in tqdm(reviews):\n",
    "    # Truncate the review if its length is more than 1000 characters\n",
    "    if len(review) > 1000:\n",
    "        review = review[:1000]\n",
    "    \n",
    "    # Remove any HTML-like formatting if present\n",
    "    if '<br /><br />' in review:\n",
    "        review = review.split('<br /><br />')[-1]\n",
    "    \n",
    "    # Perform sentiment analysis on the processed review and append the result to the list\n",
    "    prediction_lst.append(sentiment_analysis(review))"
   ]
  },
  {
   "cell_type": "code",
   "execution_count": 59,
   "id": "00d59c43",
   "metadata": {},
   "outputs": [],
   "source": [
    "# Convert the 'prediction_lst' list to a NumPy array\n",
    "prediction_lst = np.array(prediction_lst)"
   ]
  },
  {
   "cell_type": "code",
   "execution_count": 60,
   "id": "795e2305",
   "metadata": {},
   "outputs": [],
   "source": [
    "# Create a DataFrame with the 'pred' column and calculate value counts\n",
    "prediction_counts = pd.DataFrame(prediction_lst, columns=['pred']).value_counts()"
   ]
  },
  {
   "cell_type": "code",
   "execution_count": 61,
   "id": "f7bc47f7",
   "metadata": {},
   "outputs": [
    {
     "data": {
      "text/plain": [
       "pred\n",
       "5       26810\n",
       "4       12921\n",
       "3        6933\n",
       "2        5533\n",
       "1        4648\n",
       "dtype: int64"
      ]
     },
     "execution_count": 61,
     "metadata": {},
     "output_type": "execute_result"
    }
   ],
   "source": [
    "prediction_counts"
   ]
  }
 ],
 "metadata": {
  "kernelspec": {
   "display_name": "Python 3 (ipykernel)",
   "language": "python",
   "name": "python3"
  },
  "language_info": {
   "codemirror_mode": {
    "name": "ipython",
    "version": 3
   },
   "file_extension": ".py",
   "mimetype": "text/x-python",
   "name": "python",
   "nbconvert_exporter": "python",
   "pygments_lexer": "ipython3",
   "version": "3.10.9"
  }
 },
 "nbformat": 4,
 "nbformat_minor": 5
}
